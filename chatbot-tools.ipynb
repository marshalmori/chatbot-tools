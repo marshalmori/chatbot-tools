{
 "cells": [
  {
   "cell_type": "markdown",
   "id": "04d7b0f6",
   "metadata": {},
   "source": [
    "### LangGraph - Chatbot with Tools"
   ]
  },
  {
   "cell_type": "code",
   "execution_count": 16,
   "id": "0845b2dc",
   "metadata": {},
   "outputs": [],
   "source": [
    "import os\n",
    "from dotenv import load_dotenv\n",
    "\n",
    "from typing import Annotated\n",
    "from typing_extensions import TypedDict"
   ]
  },
  {
   "cell_type": "code",
   "execution_count": 2,
   "id": "2cd175c3",
   "metadata": {},
   "outputs": [],
   "source": [
    "## Working with tools\n",
    "from langchain_community.utilities import ArxivAPIWrapper, WikipediaAPIWrapper\n",
    "from langchain_community.tools import ArxivQueryRun, WikipediaQueryRun"
   ]
  },
  {
   "cell_type": "code",
   "execution_count": 5,
   "id": "ed8755e1",
   "metadata": {},
   "outputs": [],
   "source": [
    "## Arxiv And Wikipedia tools\n",
    "arxiv_wrapper = ArxivAPIWrapper(top_k_results=1, doc_content_chars_max = 300)\n",
    "arxiv_tool = ArxivQueryRun(api_wrapper = arxiv_wrapper)\n",
    "\n",
    "api_wrapper = WikipediaAPIWrapper(top_k_results = 1, doc_content_chars_max = 300)\n",
    "wiki_tool = WikipediaQueryRun(api_wrapper = api_wrapper)"
   ]
  },
  {
   "cell_type": "code",
   "execution_count": 6,
   "id": "b7cae54d",
   "metadata": {},
   "outputs": [
    {
     "data": {
      "text/plain": [
       "'Page: Shah Rukh Khan\\nSummary: Shah Rukh Khan (pronounced [ˈʃaːɦɾʊx xäːn] ; born 2 November 1965), also known by the initialism SRK, is an Indian actor and film producer who works in Hindi cinema. Referred to in the media as the \"Baadshah of Bollywood\" and \"King Khan\", he has appeared in more than 10'"
      ]
     },
     "execution_count": 6,
     "metadata": {},
     "output_type": "execute_result"
    }
   ],
   "source": [
    "wiki_tool.invoke('Who is Sharukh Khan?')"
   ]
  },
  {
   "cell_type": "code",
   "execution_count": 7,
   "id": "c76110a4",
   "metadata": {},
   "outputs": [
    {
     "data": {
      "text/plain": [
       "\"Published: 2024-07-22\\nTitle: Attention Is All You Need But You Don't Need All Of It For Inference of Large Language Models\\nAuthors: Georgy Tyukin, Gbetondji J-S Dovonon, Jean Kaddour, Pasquale Minervini\\nSummary: The inference demand for LLMs has skyrocketed in recent months, and serving\\nmodels with \""
      ]
     },
     "execution_count": 7,
     "metadata": {},
     "output_type": "execute_result"
    }
   ],
   "source": [
    "arxiv_tool.invoke('Attention is all you need')"
   ]
  },
  {
   "cell_type": "code",
   "execution_count": 8,
   "id": "6b2a6326",
   "metadata": {},
   "outputs": [],
   "source": [
    "tools = [wiki_tool]"
   ]
  },
  {
   "cell_type": "code",
   "execution_count": 10,
   "id": "0c526ae8",
   "metadata": {},
   "outputs": [],
   "source": [
    "## LangGraph Application\n",
    "from langgraph.graph.message import add_messages\n",
    "\n",
    "class State(TypedDict):\n",
    "    messages:Annotated[list, add_messages]"
   ]
  },
  {
   "cell_type": "code",
   "execution_count": 11,
   "id": "a5c77976",
   "metadata": {},
   "outputs": [],
   "source": [
    "from langgraph.graph import StateGraph, START, END"
   ]
  },
  {
   "cell_type": "code",
   "execution_count": 12,
   "id": "953e167f",
   "metadata": {},
   "outputs": [],
   "source": [
    "graph_builder = StateGraph(State)"
   ]
  },
  {
   "cell_type": "code",
   "execution_count": 13,
   "id": "c1ac941b",
   "metadata": {},
   "outputs": [],
   "source": [
    "from langchain_groq import ChatGroq"
   ]
  },
  {
   "cell_type": "code",
   "execution_count": 17,
   "id": "95f4d3c3",
   "metadata": {},
   "outputs": [],
   "source": [
    "load_dotenv()\n",
    "groq_api_key = os.getenv('GROQ_API_KEY')"
   ]
  },
  {
   "cell_type": "code",
   "execution_count": 19,
   "id": "b11ec70c",
   "metadata": {},
   "outputs": [
    {
     "data": {
      "text/plain": [
       "ChatGroq(client=<groq.resources.chat.completions.Completions object at 0x772c088be660>, async_client=<groq.resources.chat.completions.AsyncCompletions object at 0x772c089e8e30>, model_name='Gemma2-9b-It', model_kwargs={}, groq_api_key=SecretStr('**********'))"
      ]
     },
     "execution_count": 19,
     "metadata": {},
     "output_type": "execute_result"
    }
   ],
   "source": [
    "llm = ChatGroq(groq_api_key=groq_api_key, model_name='Gemma2-9b-It')\n",
    "llm"
   ]
  }
 ],
 "metadata": {
  "kernelspec": {
   "display_name": "venv",
   "language": "python",
   "name": "python3"
  },
  "language_info": {
   "codemirror_mode": {
    "name": "ipython",
    "version": 3
   },
   "file_extension": ".py",
   "mimetype": "text/x-python",
   "name": "python",
   "nbconvert_exporter": "python",
   "pygments_lexer": "ipython3",
   "version": "3.12.7"
  }
 },
 "nbformat": 4,
 "nbformat_minor": 5
}
