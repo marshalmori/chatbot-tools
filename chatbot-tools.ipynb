{
 "cells": [
  {
   "cell_type": "markdown",
   "id": "04d7b0f6",
   "metadata": {},
   "source": [
    "### LangGraph - Chatbot with Tools"
   ]
  },
  {
   "cell_type": "code",
   "execution_count": 1,
   "id": "0845b2dc",
   "metadata": {},
   "outputs": [],
   "source": [
    "from typing import Annotated\n",
    "from typing_extensions import TypedDict"
   ]
  },
  {
   "cell_type": "code",
   "execution_count": 2,
   "id": "2cd175c3",
   "metadata": {},
   "outputs": [],
   "source": [
    "## Working with tools\n",
    "from langchain_community.utilities import ArxivAPIWrapper, WikipediaAPIWrapper\n",
    "from langchain_community.tools import ArxivQueryRun, WikipediaQueryRun"
   ]
  },
  {
   "cell_type": "code",
   "execution_count": 5,
   "id": "ed8755e1",
   "metadata": {},
   "outputs": [],
   "source": [
    "## Arxiv And Wikipedia tools\n",
    "arxiv_wrapper = ArxivAPIWrapper(top_k_results=1, doc_content_chars_max = 300)\n",
    "arxiv_tool = ArxivQueryRun(api_wrapper = arxiv_wrapper)\n",
    "\n",
    "api_wrapper = WikipediaAPIWrapper(top_k_results = 1, doc_content_chars_max = 300)\n",
    "wiki_tool = WikipediaQueryRun(api_wrapper = api_wrapper)"
   ]
  }
 ],
 "metadata": {
  "kernelspec": {
   "display_name": "venv",
   "language": "python",
   "name": "python3"
  },
  "language_info": {
   "codemirror_mode": {
    "name": "ipython",
    "version": 3
   },
   "file_extension": ".py",
   "mimetype": "text/x-python",
   "name": "python",
   "nbconvert_exporter": "python",
   "pygments_lexer": "ipython3",
   "version": "3.12.7"
  }
 },
 "nbformat": 4,
 "nbformat_minor": 5
}
